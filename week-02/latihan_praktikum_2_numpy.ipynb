{
  "nbformat": 4,
  "nbformat_minor": 0,
  "metadata": {
    "colab": {
      "provenance": [],
      "authorship_tag": "ABX9TyORn9mSKgcrBanW+06RR70G",
      "include_colab_link": true
    },
    "kernelspec": {
      "name": "python3",
      "display_name": "Python 3"
    },
    "language_info": {
      "name": "python"
    }
  },
  "cells": [
    {
      "cell_type": "markdown",
      "metadata": {
        "id": "view-in-github",
        "colab_type": "text"
      },
      "source": [
        "<a href=\"https://colab.research.google.com/github/raiqahalifialinady10/Raiqah-Alifia-Linady_221230056_Pengantar-Machine-Learning/blob/main/week-02/latihan_praktikum_2_numpy.ipynb\" target=\"_parent\"><img src=\"https://colab.research.google.com/assets/colab-badge.svg\" alt=\"Open In Colab\"/></a>"
      ]
    },
    {
      "cell_type": "code",
      "execution_count": null,
      "metadata": {
        "id": "IIfdJOSzTfCt"
      },
      "outputs": [],
      "source": [
        "import numpy as np"
      ]
    },
    {
      "cell_type": "code",
      "source": [
        "'''SOLUSI: Implementasi Preprocessing Pipeline (Versi Angka Berbeda)'''\n",
        "import numpy as np\n",
        "\n",
        "# Dataset simulasi: 120 samples, 6 features\n",
        "np.random.seed(123)\n",
        "X = np.random.randn(120, 6) * 7 + 10   # Mean=10, Std=7\n",
        "\n",
        "# SOLUSI 1: Normalisasi Z-score: (x - mean) / std\n",
        "def z_score_normalization(data):\n",
        "    mean = np.mean(data, axis=0)\n",
        "    std = np.std(data, axis=0)\n",
        "    normalized = (data - mean) / std\n",
        "    return normalized\n",
        "\n",
        "X_normalized = z_score_normalization(X)\n",
        "\n",
        "# SOLUSI 2: Handle outliers - replace values beyond 2.5 std dengan boundaries\n",
        "def handle_outliers(data, std_threshold=2.5):\n",
        "    mean = np.mean(data, axis=0)\n",
        "    std = np.std(data, axis=0)\n",
        "\n",
        "    lower_bound = mean - std_threshold * std\n",
        "    upper_bound = mean + std_threshold * std\n",
        "\n",
        "    # Clip values ke batas bawah/atas\n",
        "    cleaned = np.clip(data, lower_bound, upper_bound)\n",
        "    return cleaned\n",
        "\n",
        "X_cleaned = handle_outliers(X_normalized)\n",
        "\n",
        "# SOLUSI 3: One-hot encoding untuk label kategorikal\n",
        "def one_hot_encoding(labels):\n",
        "    n_classes = len(np.unique(labels))\n",
        "    n_samples = len(labels)\n",
        "\n",
        "    one_hot = np.zeros((n_samples, n_classes))\n",
        "    for i, label in enumerate(labels):\n",
        "        one_hot[i, label] = 1\n",
        "\n",
        "    return one_hot\n",
        "\n",
        "labels = np.array([0, 1, 2, 3, 1, 2, 0, 3])\n",
        "one_hot_labels = one_hot_encoding(labels)\n",
        "\n",
        "# SOLUSI 4: Train-test split manual\n",
        "def train_test_split_numpy(X, y, test_size=0.25):\n",
        "    n_samples = X.shape[0]\n",
        "    n_test = int(n_samples * test_size)\n",
        "\n",
        "    # Shuffle indices\n",
        "    indices = np.random.permutation(n_samples)\n",
        "\n",
        "    test_indices = indices[:n_test]\n",
        "    train_indices = indices[n_test:]\n",
        "\n",
        "    X_train = X[train_indices]\n",
        "    X_test = X[test_indices]\n",
        "    y_train = y[train_indices]\n",
        "    y_test = y[test_indices]\n",
        "\n",
        "    return X_train, X_test, y_train, y_test\n",
        "\n",
        "# Generate sample labels (4 kelas)\n",
        "y = np.random.randint(0, 4, 120)\n",
        "X_train, X_test, y_train, y_test = train_test_split_numpy(X, y, test_size=0.25)\n",
        "\n",
        "print(\"Original data shape:\", X.shape)\n",
        "print(\"Normalized data mean:\", np.mean(X_normalized, axis=0).round(3))\n",
        "print(\"Normalized data std:\", np.std(X_normalized, axis=0).round(3))\n",
        "print(\"One-hot labels shape:\", one_hot_labels.shape)\n",
        "print(\"One-hot labels:\\n\", one_hot_labels)\n",
        "print(\"Train shape:\", X_train.shape, \"Test shape:\", X_test.shape)\n",
        "\n",
        "# TEST ASSERTIONS\n",
        "assert X_normalized.shape == X.shape, \"Shape harus tetap sama\"\n",
        "assert np.allclose(X_normalized.mean(axis=0), 0, atol=1e-10), \"Mean harus ~0 setelah z-score\"\n",
        "assert np.allclose(X_normalized.std(axis=0), 1, atol=1e-10), \"Std harus ~1 setelah z-score\"\n",
        "\n",
        "print(\"\\n✅ Semua assertions berhasil! Solusi benar \")\n"
      ],
      "metadata": {
        "colab": {
          "base_uri": "https://localhost:8080/"
        },
        "id": "B5Ho8-lBT0LY",
        "outputId": "dc14f620-9e0b-4eb1-baa0-702b86368536"
      },
      "execution_count": null,
      "outputs": [
        {
          "output_type": "stream",
          "name": "stdout",
          "text": [
            "Original data shape: (120, 6)\n",
            "Normalized data mean: [ 0.  0.  0. -0. -0.  0.]\n",
            "Normalized data std: [1. 1. 1. 1. 1. 1.]\n",
            "One-hot labels shape: (8, 4)\n",
            "One-hot labels:\n",
            " [[1. 0. 0. 0.]\n",
            " [0. 1. 0. 0.]\n",
            " [0. 0. 1. 0.]\n",
            " [0. 0. 0. 1.]\n",
            " [0. 1. 0. 0.]\n",
            " [0. 0. 1. 0.]\n",
            " [1. 0. 0. 0.]\n",
            " [0. 0. 0. 1.]]\n",
            "Train shape: (90, 6) Test shape: (30, 6)\n",
            "\n",
            "✅ Semua assertions berhasil! Solusi benar (versi baru).\n"
          ]
        }
      ]
    }
  ]
}