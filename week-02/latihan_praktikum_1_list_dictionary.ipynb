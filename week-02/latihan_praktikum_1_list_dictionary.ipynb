{
  "nbformat": 4,
  "nbformat_minor": 0,
  "metadata": {
    "colab": {
      "provenance": [],
      "authorship_tag": "ABX9TyNwzsZGro6g9esfpOdjXjsB",
      "include_colab_link": true
    },
    "kernelspec": {
      "name": "python3",
      "display_name": "Python 3"
    },
    "language_info": {
      "name": "python"
    }
  },
  "cells": [
    {
      "cell_type": "markdown",
      "metadata": {
        "id": "view-in-github",
        "colab_type": "text"
      },
      "source": [
        "<a href=\"https://colab.research.google.com/github/raiqahalifialinady10/Raiqah-Alifia-Linady_221230056_Pengantar-Machine-Learning/blob/main/week-02/latihan_praktikum_1_list_dictionary.ipynb\" target=\"_parent\"><img src=\"https://colab.research.google.com/assets/colab-badge.svg\" alt=\"Open In Colab\"/></a>"
      ]
    },
    {
      "cell_type": "code",
      "execution_count": null,
      "metadata": {
        "colab": {
          "base_uri": "https://localhost:8080/"
        },
        "id": "5ZFWrdJHN4jD",
        "outputId": "b26d1008-2653-4237-fa11-5eca8e456e8f"
      },
      "outputs": [
        {
          "output_type": "stream",
          "name": "stdout",
          "text": [
            "Raw data: [30.2, 28.5, 35.1, 40.3, 32.7, 45.6, 42.8, 38.9, 36.4, 41.2]\n",
            "Filtered data (35-40): [35.1, 38.9, 36.4]\n",
            "Normalized data: [0.099, 0.0, 0.386, 0.69, 0.246, 1.0, 0.836, 0.608, 0.462, 0.743]\n",
            "Moving average (window=4): [33.525, 34.15, 38.425, 40.35, 40.0, 40.925, 39.825]\n"
          ]
        }
      ],
      "source": [
        "# preprocessing\n",
        "\n",
        "# Data mentah dari sensor\n",
        "raw_data = [30.2, 28.5, 35.1, 40.3, 32.7, 45.6, 42.8, 38.9, 36.4, 41.2]\n",
        "\n",
        "# SOLUSI 1: Filter data yang berada di range 35-40 derajat\n",
        "filtered_data = [x for x in raw_data if 35 <= x <= 40]\n",
        "\n",
        "# SOLUSI 2: Normalisasi data ke range 0-1 menggunakan min-max scaling\n",
        "min_val = min(raw_data)\n",
        "max_val = max(raw_data)\n",
        "normalized_data = [(x - min_val) / (max_val - min_val) for x in raw_data]\n",
        "\n",
        "# SOLUSI 3: Hitung moving average dengan window size 4\n",
        "def moving_average(data, window_size):\n",
        "    moving_avgs = []\n",
        "    for i in range(len(data) - window_size + 1):\n",
        "        window = data[i:i + window_size]\n",
        "        avg = sum(window) / window_size\n",
        "        moving_avgs.append(avg)\n",
        "    return moving_avgs\n",
        "\n",
        "ma_result = moving_average(raw_data, 4)\n",
        "\n",
        "print(\"Raw data:\", raw_data)\n",
        "print(\"Filtered data (35-40):\", filtered_data)\n",
        "print(\"Normalized data:\", [round(x, 3) for x in normalized_data])\n",
        "print(\"Moving average (window=4):\", [round(x, 3) for x in ma_result])\n"
      ]
    },
    {
      "cell_type": "code",
      "source": [
        "'''SOLUSI: Processing Dataset untuk Machine Learning (Label Negatif & Positif, 8 Data)'''\n",
        "\n",
        "# Dataset sample untuk klasifikasi (8 data total)\n",
        "dataset = [\n",
        "    {'features': [4.5, 2.1, 3.7], 'label': 'negatif'},\n",
        "    {'features': [6.8, 3.5, 2.9], 'label': 'positif'},\n",
        "    {'features': [5.2, 2.8, 4.1], 'label': 'negatif'},\n",
        "    {'features': [7.1, 3.9, 3.4], 'label': 'positif'},\n",
        "    {'features': [4.9, 2.5, 3.2], 'label': 'negatif'},\n",
        "    {'features': [6.5, 3.1, 4.0], 'label': 'positif'},\n",
        "    {'features': [5.4, 2.6, 3.8], 'label': 'negatif'},\n",
        "    {'features': [7.3, 4.2, 3.6], 'label': 'positif'}\n",
        "]\n",
        "\n",
        "# SOLUSI 4: Kelompokkan data berdasarkan label\n",
        "def group_by_label(data):\n",
        "    grouped = {}\n",
        "    for item in data:\n",
        "        label = item['label']\n",
        "        features = item['features']\n",
        "        if label not in grouped:\n",
        "            grouped[label] = []\n",
        "        grouped[label].append(features)\n",
        "    return grouped\n",
        "\n",
        "grouped_data = group_by_label(dataset)\n",
        "\n",
        "# SOLUSI 5: Hitung rata-rata features per kelas\n",
        "def average_features_per_class(grouped_data):\n",
        "    averages = {}\n",
        "    for label, features_list in grouped_data.items():\n",
        "        n_features = len(features_list[0])\n",
        "        sums = [0] * n_features\n",
        "        for features in features_list:\n",
        "            for i, val in enumerate(features):\n",
        "                sums[i] += val\n",
        "        averages[label] = [s / len(features_list) for s in sums]\n",
        "    return averages\n",
        "\n",
        "avg_features = average_features_per_class(grouped_data)\n",
        "\n",
        "print(\"Jumlah total data:\", len(dataset))\n",
        "\n",
        "print(\"\\nGrouped data by label:\")\n",
        "for label, features in grouped_data.items():\n",
        "    print(f\"{label} ({len(features)} data): {features}\")\n",
        "\n",
        "print(\"\\nAverage features per class:\")\n",
        "for label, avg in avg_features.items():\n",
        "    print(f\"{label}: {[round(x, 3) for x in avg]}\")\n",
        "\n",
        "# TEST ASSERTIONS\n",
        "assert 'negatif' in grouped_data, \"Should contain label 'negatif'\"\n",
        "assert 'positif' in grouped_data, \"Should contain label 'positif'\"\n",
        "\n",
        "print(\"\\n✅ Semua assertions berhasil! Solusi benar (8 data, label negatif & positif).\")\n"
      ],
      "metadata": {
        "colab": {
          "base_uri": "https://localhost:8080/"
        },
        "id": "kUiYkq7xSAIR",
        "outputId": "09a2be45-875f-4007-fc01-20cb62676a28"
      },
      "execution_count": null,
      "outputs": [
        {
          "output_type": "stream",
          "name": "stdout",
          "text": [
            "Jumlah total data: 8\n",
            "\n",
            "Grouped data by label:\n",
            "negatif (4 data): [[4.5, 2.1, 3.7], [5.2, 2.8, 4.1], [4.9, 2.5, 3.2], [5.4, 2.6, 3.8]]\n",
            "positif (4 data): [[6.8, 3.5, 2.9], [7.1, 3.9, 3.4], [6.5, 3.1, 4.0], [7.3, 4.2, 3.6]]\n",
            "\n",
            "Average features per class:\n",
            "negatif: [5.0, 2.5, 3.7]\n",
            "positif: [6.925, 3.675, 3.475]\n",
            "\n",
            "✅ Semua assertions berhasil! Solusi benar (8 data, label negatif & positif).\n"
          ]
        }
      ]
    },
    {
      "cell_type": "code",
      "source": [],
      "metadata": {
        "id": "YUsYQKS-R7wd"
      },
      "execution_count": null,
      "outputs": []
    }
  ]
}