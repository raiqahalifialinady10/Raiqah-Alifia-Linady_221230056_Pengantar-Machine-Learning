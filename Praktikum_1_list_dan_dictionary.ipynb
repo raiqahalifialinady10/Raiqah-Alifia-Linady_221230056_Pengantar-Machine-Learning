{
  "nbformat": 4,
  "nbformat_minor": 0,
  "metadata": {
    "colab": {
      "provenance": [],
      "authorship_tag": "ABX9TyPH7K5oQ2RjpTBQ1/66fOFc",
      "include_colab_link": true
    },
    "kernelspec": {
      "name": "python3",
      "display_name": "Python 3"
    },
    "language_info": {
      "name": "python"
    }
  },
  "cells": [
    {
      "cell_type": "markdown",
      "metadata": {
        "id": "view-in-github",
        "colab_type": "text"
      },
      "source": [
        "<a href=\"https://colab.research.google.com/github/raiqahalifialinady10/Raiqah-Alifia-Linady_221230056_Pengantar-Machine-Learning/blob/main/Praktikum_1_list_dan_dictionary.ipynb\" target=\"_parent\"><img src=\"https://colab.research.google.com/assets/colab-badge.svg\" alt=\"Open In Colab\"/></a>"
      ]
    },
    {
      "cell_type": "code",
      "execution_count": 3,
      "metadata": {
        "colab": {
          "base_uri": "https://localhost:8080/"
        },
        "id": "5ZFWrdJHN4jD",
        "outputId": "a3fc272b-51cc-4313-99f1-c31184f84d9e"
      },
      "outputs": [
        {
          "output_type": "stream",
          "name": "stdout",
          "text": [
            "Raw data: [10.5, 11.1, 18.8, 20.3, 15.9, 24.7, 27.5, 24.8, 23.2, 25.9]\n",
            "Filtered data (22-25): [24.7, 24.8, 23.2]\n",
            "Normalized data: [0.0, 0.035, 0.488, 0.576, 0.318, 0.835, 1.0, 0.841, 0.747, 0.906]\n",
            "Moving average (window=3): [13.467, 16.733, 18.333, 20.3, 22.7, 25.667, 25.167, 24.633]\n"
          ]
        }
      ],
      "source": [
        "# prepocessing\n",
        "# Data mentah dari sensor\n",
        "raw_data = [10.5, 11.1, 18.8, 20.3, 15.9, 24.7, 27.5, 24.8, 23.2, 25.9]\n",
        "\n",
        "# SOLUSI 1: Filter data yang berada di range 22-25 derajat\n",
        "filtered_data = [x for x in raw_data if 22 <= x <= 25]\n",
        "\n",
        "# SOLUSI 2: Normalisasi data ke range 0-1 menggunakan min-max scaling\n",
        "min_val = min(raw_data)\n",
        "max_val = max(raw_data)\n",
        "normalized_data = [(x - min_val) / (max_val - min_val) for x in raw_data]\n",
        "\n",
        "# SOLUSI 3: Hitung moving average dengan window size 3\n",
        "def moving_average(data, window_size):\n",
        "    moving_avgs = []\n",
        "    for i in range(len(data) - window_size + 1):\n",
        "        window = data[i:i + window_size]\n",
        "        avg = sum(window) / window_size\n",
        "        moving_avgs.append(avg)\n",
        "    return moving_avgs\n",
        "\n",
        "ma_result = moving_average(raw_data, 3)\n",
        "\n",
        "print(\"Raw data:\", raw_data)\n",
        "print(\"Filtered data (22-25):\", filtered_data)\n",
        "print(\"Normalized data:\", [round(x, 3) for x in normalized_data])\n",
        "print(\"Moving average (window=3):\", [round(x, 3) for x in ma_result])"
      ]
    },
    {
      "cell_type": "code",
      "source": [
        "'''SOLUSI: Processing Dataset untuk Machine Learning'''\n",
        "# Dataset sample untuk klasifikasi\n",
        "dataset = [\n",
        "    {'features': [1.2, 3.4, 2.1], 'label': 'class_A'},\n",
        "    {'features': [2.3, 1.5, 4.2], 'label': 'class_B'},\n",
        "    {'features': [3.1, 2.8, 1.9], 'label': 'class_A'},\n",
        "    {'features': [4.2, 3.9, 2.5], 'label': 'class_B'}\n",
        "]\n",
        "\n",
        "# SOLUSI 4: Kelompokkan data berdasarkan label\n",
        "def group_by_label(data):\n",
        "    grouped = {}\n",
        "    for item in data:\n",
        "        label = item['label']\n",
        "        features = item['features']\n",
        "        if label not in grouped:\n",
        "            grouped[label] = []\n",
        "        grouped[label].append(features)\n",
        "    return grouped\n",
        "\n",
        "grouped_data = group_by_label(dataset)\n",
        "\n",
        "# SOLUSI 5: Hitung rata-rata features per kelas\n",
        "def average_features_per_class(grouped_data):\n",
        "    averages = {}\n",
        "    for label, features_list in grouped_data.items():\n",
        "        # Convert to numpy-like calculation using zip\n",
        "        n_features = len(features_list[0])\n",
        "        sums = [0] * n_features\n",
        "        for features in features_list:\n",
        "            for i, val in enumerate(features):\n",
        "                sums[i] += val\n",
        "        averages[label] = [s / len(features_list) for s in sums]\n",
        "    return averages\n",
        "\n",
        "avg_features = average_features_per_class(grouped_data)\n",
        "\n",
        "print(\"\\nGrouped data by label:\")\n",
        "for label, features in grouped_data.items():\n",
        "    print(f\"{label}: {features}\")\n",
        "\n",
        "print(\"\\nAverage features per class:\")\n",
        "for label, avg in avg_features.items():\n",
        "    print(f\"{label}: {[round(x, 3) for x in avg]}\")\n",
        "\n",
        "# TEST ASSERTIONS\n",
        "assert len(filtered_data) <= len(raw_data), \"Filtered data should not be longer\"\n",
        "assert all(0 <= x <= 1 for x in normalized_data), \"Normalized data should be 0-1\"\n",
        "assert 'class_A' in grouped_data, \"Should contain class_A\"\n",
        "assert 'class_B' in grouped_data, \"Should contain class_B\"\n",
        "\n",
        "print(\"\\n✅ Semua assertions berhasil! Solusi benar.\")"
      ],
      "metadata": {
        "colab": {
          "base_uri": "https://localhost:8080/"
        },
        "id": "kUiYkq7xSAIR",
        "outputId": "7f42f2bf-a161-4b03-a12b-d8ffe6d9b0ec"
      },
      "execution_count": 2,
      "outputs": [
        {
          "output_type": "stream",
          "name": "stdout",
          "text": [
            "\n",
            "Grouped data by label:\n",
            "class_A: [[1.2, 3.4, 2.1], [3.1, 2.8, 1.9]]\n",
            "class_B: [[2.3, 1.5, 4.2], [4.2, 3.9, 2.5]]\n",
            "\n",
            "Average features per class:\n",
            "class_A: [2.15, 3.1, 2.0]\n",
            "class_B: [3.25, 2.7, 3.35]\n",
            "\n",
            "✅ Semua assertions berhasil! Solusi benar.\n"
          ]
        }
      ]
    },
    {
      "cell_type": "code",
      "source": [],
      "metadata": {
        "id": "YUsYQKS-R7wd"
      },
      "execution_count": null,
      "outputs": []
    }
  ]
}