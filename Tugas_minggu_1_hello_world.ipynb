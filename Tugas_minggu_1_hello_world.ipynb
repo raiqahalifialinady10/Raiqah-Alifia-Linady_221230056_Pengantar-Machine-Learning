{
  "nbformat": 4,
  "nbformat_minor": 0,
  "metadata": {
    "colab": {
      "provenance": [],
      "authorship_tag": "ABX9TyMXHGLD7iyBcZQBC++Pl9DJ",
      "include_colab_link": true
    },
    "kernelspec": {
      "name": "python3",
      "display_name": "Python 3"
    },
    "language_info": {
      "name": "python"
    }
  },
  "cells": [
    {
      "cell_type": "markdown",
      "metadata": {
        "id": "view-in-github",
        "colab_type": "text"
      },
      "source": [
        "<a href=\"https://colab.research.google.com/github/raiqahalifialinady10/Raiqah-Alifia-Linady_221230056_Pengantar-Machine-Learning/blob/main/Tugas_minggu_1_hello_world.ipynb\" target=\"_parent\"><img src=\"https://colab.research.google.com/assets/colab-badge.svg\" alt=\"Open In Colab\"/></a>"
      ]
    },
    {
      "cell_type": "code",
      "execution_count": 1,
      "metadata": {
        "colab": {
          "base_uri": "https://localhost:8080/"
        },
        "id": "e6Vyub-kuOUZ",
        "outputId": "de7e2bed-ab62-48b7-db51-1867c73a5abd"
      },
      "outputs": [
        {
          "output_type": "stream",
          "name": "stdout",
          "text": [
            "Hello, World!\n",
            "Selamat datang di Mata Kuliah Pengantar Machine Learning!\n",
            "Nama: [Raiqah Alifia Linady]\n",
            "NIM: [221230056]\n"
          ]
        }
      ],
      "source": [
        "print(\"Hello, World!\")\n",
        "print(\"Selamat datang di Mata Kuliah Pengantar Machine Learning!\")\n",
        "print(\"Nama: [Raiqah Alifia Linady]\")\n",
        "print(\"NIM: [221230056]\")"
      ]
    }
  ]
}